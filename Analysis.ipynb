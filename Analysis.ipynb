{
 "cells": [
  {
   "cell_type": "code",
   "execution_count": 12,
   "metadata": {},
   "outputs": [],
   "source": [
    "import pandas as pd\n",
    "import csv"
   ]
  },
  {
   "cell_type": "code",
   "execution_count": 13,
   "metadata": {},
   "outputs": [],
   "source": [
    "# read csvs as dataframes\n",
    "data_2009 = \"england-premier-league-2009-to-2010.csv\"\n",
    "data_2009_df = pd.read_csv(data_2009)\n",
    "\n",
    "data_2010 = \"england-premier-league-2010-to-2011.csv\"\n",
    "data_2010_df = pd.read_csv(data_2010)\n",
    "\n",
    "data_2011 = \"england-premier-league-2011-to-2012.csv\"\n",
    "data_2011_df = pd.read_csv(data_2011)\n",
    "\n",
    "data_2012 = \"england-premier-league-2012-to-2013.csv\"\n",
    "data_2012_df = pd.read_csv(data_2012)\n",
    "\n",
    "data_2013 = \"england-premier-league-2013-to-2014.csv\"\n",
    "data_2013_df = pd.read_csv(data_2013)\n",
    "\n",
    "data_2014 = \"england-premier-league-2014-to-2015.csv\"\n",
    "data_2014_df = pd.read_csv(data_2014)\n",
    "\n",
    "data_2015 = \"england-premier-league-2015-to-2016.csv\"\n",
    "data_2015_df = pd.read_csv(data_2015)\n",
    "\n",
    "data_2016 = \"england-premier-league-2016-to-2017.csv\"\n",
    "data_2016_df = pd.read_csv(data_2016)\n",
    "\n",
    "data_2017 = \"england-premier-league-2017-to-2018.csv\"\n",
    "data_2017_df = pd.read_csv(data_2017)\n",
    "\n",
    "data_2018 = \"england-premier-league-2018-to-2019.csv\"\n",
    "data_2018_df = pd.read_csv(data_2018)\n",
    "\n",
    "data_2019 = \"england-premier-league-2019-to-2020.csv\"\n",
    "data_2019_df = pd.read_csv(data_2019)\n",
    "\n"
   ]
  },
  {
   "cell_type": "code",
   "execution_count": 37,
   "metadata": {},
   "outputs": [],
   "source": [
    "# Combine all dataframes\n",
    "seasons_df = pd.concat([data_2009_df, data_2010_df, data_2011_df, data_2012_df, data_2013_df,\n",
    "                       data_2014_df, data_2015_df, data_2016_df, data_2017_df, data_2018_df,\n",
    "                       data_2019_df])\n",
    "\n",
    "# Cpnvert home and away goals to int\n",
    "seasons_df[\"FTHG\"] = pd.to_numeric(seasons_df[\"FTHG\"])\n",
    "seasons_df[\"FTAG\"] = pd.to_numeric(seasons_df[\"FTAG\"])"
   ]
  },
  {
   "cell_type": "code",
   "execution_count": 38,
   "metadata": {},
   "outputs": [],
   "source": [
    "# Save combined Dataframes as a CSV\n",
    "seasons_df.to_csv('Combined_seasons.csv')"
   ]
  },
  {
   "cell_type": "code",
   "execution_count": 39,
   "metadata": {},
   "outputs": [],
   "source": [
    "# counters for how many games ended up in home dogs winning, and also how many did not.\n",
    "upsets = 0\n",
    "non_upsets = 0\n",
    "\n",
    "# variables about our bankroll and bet sizing.\n",
    "starting_bankroll = 100\t\n",
    "wagering_size = 5\n",
    "\n",
    "bankroll = starting_bankroll"
   ]
  },
  {
   "cell_type": "code",
   "execution_count": 40,
   "metadata": {},
   "outputs": [
    {
     "ename": "ValueError",
     "evalue": "could not convert string to float: ",
     "output_type": "error",
     "traceback": [
      "\u001b[0;31m---------------------------------------------------------------------------\u001b[0m",
      "\u001b[0;31mValueError\u001b[0m                                Traceback (most recent call last)",
      "\u001b[0;32m<ipython-input-40-04d09929d2ef>\u001b[0m in \u001b[0;36m<module>\u001b[0;34m\u001b[0m\n\u001b[1;32m      5\u001b[0m     \u001b[0maway_team\u001b[0m \u001b[0;34m=\u001b[0m \u001b[0mgame\u001b[0m\u001b[0;34m[\u001b[0m\u001b[0;36m4\u001b[0m\u001b[0;34m]\u001b[0m\u001b[0;34m\u001b[0m\u001b[0;34m\u001b[0m\u001b[0m\n\u001b[1;32m      6\u001b[0m \u001b[0;34m\u001b[0m\u001b[0m\n\u001b[0;32m----> 7\u001b[0;31m     \u001b[0mhome_goals\u001b[0m \u001b[0;34m=\u001b[0m \u001b[0mfloat\u001b[0m\u001b[0;34m(\u001b[0m\u001b[0mgame\u001b[0m\u001b[0;34m[\u001b[0m\u001b[0;36m5\u001b[0m\u001b[0;34m]\u001b[0m\u001b[0;34m)\u001b[0m\u001b[0;34m\u001b[0m\u001b[0;34m\u001b[0m\u001b[0m\n\u001b[0m\u001b[1;32m      8\u001b[0m     \u001b[0maway_goals\u001b[0m \u001b[0;34m=\u001b[0m \u001b[0mfloat\u001b[0m\u001b[0;34m(\u001b[0m\u001b[0mgame\u001b[0m\u001b[0;34m[\u001b[0m\u001b[0;36m6\u001b[0m\u001b[0;34m]\u001b[0m\u001b[0;34m)\u001b[0m\u001b[0;34m\u001b[0m\u001b[0;34m\u001b[0m\u001b[0m\n\u001b[1;32m      9\u001b[0m \u001b[0;34m\u001b[0m\u001b[0m\n",
      "\u001b[0;31mValueError\u001b[0m: could not convert string to float: "
     ]
    }
   ],
   "source": [
    "csv_file = csv.reader(open('Combined_seasons.csv'))\n",
    "next(csv_file)\n",
    "for game in csv_file:\n",
    "    home_team = game[3]\n",
    "    away_team = game[4]\n",
    "\n",
    "    home_goals = float(game[5])\n",
    "    away_goals = float(game[6])\n",
    "\n",
    "    home_odds = float(game[24])\n",
    "    draw_odds = float(game[25])\n",
    "    away_odds = float(game[26])"
   ]
  },
  {
   "cell_type": "code",
   "execution_count": null,
   "metadata": {},
   "outputs": [],
   "source": []
  }
 ],
 "metadata": {
  "kernelspec": {
   "display_name": "Python 3",
   "language": "python",
   "name": "python3"
  },
  "language_info": {
   "codemirror_mode": {
    "name": "ipython",
    "version": 3
   },
   "file_extension": ".py",
   "mimetype": "text/x-python",
   "name": "python",
   "nbconvert_exporter": "python",
   "pygments_lexer": "ipython3",
   "version": "3.7.6"
  }
 },
 "nbformat": 4,
 "nbformat_minor": 4
}
