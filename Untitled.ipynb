{
 "cells": [
  {
   "cell_type": "code",
   "execution_count": 2,
   "metadata": {},
   "outputs": [],
   "source": [
    "import pandas as pd\n"
   ]
  },
  {
   "cell_type": "code",
   "execution_count": 5,
   "metadata": {},
   "outputs": [],
   "source": [
    "data_2009 = \"england-premier-league-2009-to-2010.csv\"\n",
    "data_2009_df = pd.read_csv(data_2009)\n",
    "\n",
    "data_2010 = \"england-premier-league-2010-to-2011.csv\"\n",
    "data_2010_df = pd.read_csv(data_2010)\n",
    "\n",
    "data_2011 = \"england-premier-league-2011-to-2012.csv\"\n",
    "data_2011_df = pd.read_csv(data_2011)\n",
    "\n",
    "data_2012 = \"england-premier-league-2012-to-2013.csv\"\n",
    "data_2012_df = pd.read_csv(data_2012)\n",
    "\n",
    "data_2013 = \"england-premier-league-2013-to-2014.csv\"\n",
    "data_2013_df = pd.read_csv(data_2013)\n",
    "\n",
    "data_2014 = \"england-premier-league-2014-to-2015.csv\"\n",
    "data_2014_df = pd.read_csv(data_2014)\n",
    "\n",
    "data_2015 = \"england-premier-league-2015-to-2016.csv\"\n",
    "data_2015_df = pd.read_csv(data_2015)\n",
    "\n",
    "data_2016 = \"england-premier-league-2016-to-2017.csv\"\n",
    "data_2016_df = pd.read_csv(data_2016)\n",
    "\n",
    "data_2017 = \"england-premier-league-2017-to-2018.csv\"\n",
    "data_2017_df = pd.read_csv(data_2017)\n",
    "\n",
    "data_2018 = \"england-premier-league-2018-to-2019.csv\"\n",
    "data_2018_df = pd.read_csv(data_2018)\n",
    "\n",
    "data_2019 = \"england-premier-league-2019-to-2020.csv\"\n",
    "data_2019_df = pd.read_csv(data_2019)\n",
    "\n"
   ]
  },
  {
   "cell_type": "code",
   "execution_count": 8,
   "metadata": {},
   "outputs": [
    {
     "ename": "TypeError",
     "evalue": "merge() got multiple values for argument 'on'",
     "output_type": "error",
     "traceback": [
      "\u001b[0;31m---------------------------------------------------------------------------\u001b[0m",
      "\u001b[0;31mTypeError\u001b[0m                                 Traceback (most recent call last)",
      "\u001b[0;32m<ipython-input-8-eaeef2ec43b5>\u001b[0m in \u001b[0;36m<module>\u001b[0;34m\u001b[0m\n\u001b[1;32m      1\u001b[0m merge_table = pd.merge(data_2009, data_2010,data_2011, data_2012, data_2013, data_2014, data_2015, data_2016, data_2017,\n\u001b[0;32m----> 2\u001b[0;31m                        data_2018, data_2019, on=\"Div\")\n\u001b[0m",
      "\u001b[0;31mTypeError\u001b[0m: merge() got multiple values for argument 'on'"
     ]
    }
   ],
   "source": [
    "merge_table = pd.merge(data_2009, data_2010, on=\"Div\")\n",
    "                       \n",
    "data_2011, data_2012, data_2013, data_2014, data_2015, data_2016, data_2017,data_2018, data_2019, on=\"Div\")"
   ]
  },
  {
   "cell_type": "code",
   "execution_count": null,
   "metadata": {},
   "outputs": [],
   "source": []
  }
 ],
 "metadata": {
  "kernelspec": {
   "display_name": "Python 3",
   "language": "python",
   "name": "python3"
  },
  "language_info": {
   "codemirror_mode": {
    "name": "ipython",
    "version": 3
   },
   "file_extension": ".py",
   "mimetype": "text/x-python",
   "name": "python",
   "nbconvert_exporter": "python",
   "pygments_lexer": "ipython3",
   "version": "3.7.6"
  }
 },
 "nbformat": 4,
 "nbformat_minor": 4
}
