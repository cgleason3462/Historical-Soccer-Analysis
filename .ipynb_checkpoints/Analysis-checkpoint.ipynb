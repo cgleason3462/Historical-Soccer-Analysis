{
 "cells": [
  {
   "cell_type": "code",
   "execution_count": 4,
   "metadata": {},
   "outputs": [],
   "source": [
    "import pandas as pd\n"
   ]
  },
  {
   "cell_type": "code",
   "execution_count": 5,
   "metadata": {},
   "outputs": [],
   "source": [
    "data_2009 = \"england-premier-league-2009-to-2010.csv\"\n",
    "data_2009_df = pd.read_csv(data_2009)\n",
    "\n",
    "data_2010 = \"england-premier-league-2010-to-2011.csv\"\n",
    "data_2010_df = pd.read_csv(data_2010)\n",
    "\n",
    "data_2011 = \"england-premier-league-2011-to-2012.csv\"\n",
    "data_2011_df = pd.read_csv(data_2011)\n",
    "\n",
    "data_2012 = \"england-premier-league-2012-to-2013.csv\"\n",
    "data_2012_df = pd.read_csv(data_2012)\n",
    "\n",
    "data_2013 = \"england-premier-league-2013-to-2014.csv\"\n",
    "data_2013_df = pd.read_csv(data_2013)\n",
    "\n",
    "data_2014 = \"england-premier-league-2014-to-2015.csv\"\n",
    "data_2014_df = pd.read_csv(data_2014)\n",
    "\n",
    "data_2015 = \"england-premier-league-2015-to-2016.csv\"\n",
    "data_2015_df = pd.read_csv(data_2015)\n",
    "\n",
    "data_2016 = \"england-premier-league-2016-to-2017.csv\"\n",
    "data_2016_df = pd.read_csv(data_2016)\n",
    "\n",
    "data_2017 = \"england-premier-league-2017-to-2018.csv\"\n",
    "data_2017_df = pd.read_csv(data_2017)\n",
    "\n",
    "data_2018 = \"england-premier-league-2018-to-2019.csv\"\n",
    "data_2018_df = pd.read_csv(data_2018)\n",
    "\n",
    "data_2019 = \"england-premier-league-2019-to-2020.csv\"\n",
    "data_2019_df = pd.read_csv(data_2019)\n",
    "\n"
   ]
  },
  {
   "cell_type": "code",
   "execution_count": 6,
   "metadata": {},
   "outputs": [],
   "source": [
    "seasons_df = pd.concat([data_2009_df, data_2010_df, data_2011_df, data_2012_df, data_2013_df,\n",
    "                       data_2014_df, data_2015_df, data_2016_df, data_2017_df, data_2018_df,\n",
    "                       data_2019_df])\n"
   ]
  },
  {
   "cell_type": "code",
   "execution_count": null,
   "metadata": {},
   "outputs": [],
   "source": []
  },
  {
   "cell_type": "code",
   "execution_count": null,
   "metadata": {},
   "outputs": [],
   "source": []
  }
 ],
 "metadata": {
  "kernelspec": {
   "display_name": "Python 3",
   "language": "python",
   "name": "python3"
  },
  "language_info": {
   "codemirror_mode": {
    "name": "ipython",
    "version": 3
   },
   "file_extension": ".py",
   "mimetype": "text/x-python",
   "name": "python",
   "nbconvert_exporter": "python",
   "pygments_lexer": "ipython3",
   "version": "3.7.6"
  }
 },
 "nbformat": 4,
 "nbformat_minor": 4
}
